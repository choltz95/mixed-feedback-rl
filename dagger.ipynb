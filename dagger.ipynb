{
 "cells": [
  {
   "cell_type": "code",
   "execution_count": 12,
   "metadata": {
    "scrolled": true
   },
   "outputs": [
    {
     "name": "stdout",
     "output_type": "stream",
     "text": [
      "The autoreload extension is already loaded. To reload it, use:\n",
      "  %reload_ext autoreload\n"
     ]
    }
   ],
   "source": [
    "import jax\n",
    "from jax import numpy as jnp\n",
    "from jax import random, grad, vmap, jit, tree_multimap, tree_map\n",
    "from jax.experimental import stax, optimizers\n",
    "from jax.experimental.stax import Conv, Dense, MaxPool, Relu, Tanh, Flatten, LogSoftmax, Softmax\n",
    "\n",
    "from joblib import Parallel, delayed\n",
    "\n",
    "from policy import Policy\n",
    "from learners import pwl, get_network\n",
    "from utils import make_plot, make_envs, plot_and_evaluate\n",
    "\n",
    "from copy import deepcopy\n",
    "\n",
    "import matplotlib\n",
    "%matplotlib inline\n",
    "import matplotlib.pyplot as plt\n",
    "from matplotlib.pyplot import figure, axis\n",
    "\n",
    "import cloudpickle\n",
    "import h5py\n",
    "\n",
    "import gym\n",
    "from gym import wrappers\n",
    "\n",
    "import io\n",
    "import base64\n",
    "from IPython.display import HTML\n",
    "\n",
    "import numpy as np\n",
    "import pandas as pd\n",
    "import sys, os, math, time, pickle, itertools\n",
    "from tqdm.notebook import tqdm\n",
    "import matplotlib.pyplot as plt\n",
    "\n",
    "%load_ext autoreload\n",
    "%autoreload 2"
   ]
  },
  {
   "cell_type": "code",
   "execution_count": 13,
   "metadata": {},
   "outputs": [
    {
     "name": "stdout",
     "output_type": "stream",
     "text": [
      "gpu\n"
     ]
    }
   ],
   "source": [
    "## verify Jax is using the GPU\n",
    "from jax.lib import xla_bridge\n",
    "print(xla_bridge.get_backend().platform)"
   ]
  },
  {
   "cell_type": "code",
   "execution_count": 14,
   "metadata": {},
   "outputs": [],
   "source": [
    "## Instantiate global rng for reproducability\n",
    "rng = random.PRNGKey(0)"
   ]
  },
  {
   "cell_type": "code",
   "execution_count": 15,
   "metadata": {},
   "outputs": [],
   "source": [
    "cartpole_expert_params = tree_map(jnp.array,pickle.load(open('cartpolev1_ppo2_expert.pkl','rb')))\n",
    "lander_expert_params = tree_map(jnp.array,pickle.load(open('lander_ppo2_expert.pkl','rb')))\n",
    "hopper_expert_params = tree_map(jnp.array,pickle.load(open('halfcheetah_ppo2_tanh_expert.pkl','rb')))\n",
    "half_cheetah_expert_params = tree_map(jnp.array,pickle.load(open('halfcheetah_ppo2_tanh_expert.pkl','rb')))"
   ]
  },
  {
   "cell_type": "code",
   "execution_count": 16,
   "metadata": {},
   "outputs": [],
   "source": [
    "env, envs = make_envs('CartPole-v1', 8)\n",
    "#env, envs = make_envs('LunarLander-v2')\n",
    "#env, envs = make_envs('HalfCheetah-v2')\n",
    "discrete = True\n",
    "\n",
    "set_state = False\n",
    "if hasattr(env, 'sim'):\n",
    "    invert_op = getattr(env.sim, \"set_state\", None)\n",
    "    if callable(invert_op):\n",
    "        set_state = True\n",
    "\n",
    "env_expert, env_noisy_expert, env_dagger, \\\n",
    "env_active_dagger, env_aggrevate, env_active_aggrevate, env_uncactive_aggrevate, env_uncactive_dagger = envs\n",
    "\n",
    "max_steps = env.spec.max_episode_steps\n",
    "\n",
    "init_obs = env.reset()\n",
    "in_shape = (-1,) + (init_obs.shape[0],)\n",
    "\n",
    "environments = [env_expert, env_noisy_expert, env_dagger, \n",
    "                env_active_dagger, env_aggrevate, env_active_aggrevate,\n",
    "                env_uncactive_aggrevate, env_uncactive_dagger]"
   ]
  },
  {
   "cell_type": "code",
   "execution_count": 17,
   "metadata": {},
   "outputs": [],
   "source": [
    "#expname = './experts/HalfCheetah-v2.pkl'\n",
    "expert_network = 'cartpole'\n",
    "expert_params = cartpole_expert_params\n",
    "net_init_expert, net_apply_expert, net_walk_expert = get_network('{}-expert'.format(expert_network))\n",
    "#m = cloudpickle.load(open(expname,'rb'))['GaussianPolicy']['obsnorm']['Standardizer']['mean_1_D']\n",
    "#ms= cloudpickle.load(open(expname,'rb'))['GaussianPolicy']['obsnorm']['Standardizer']['meansq_1_D']\n",
    "m = 0.0\n",
    "ms = 1.0\n",
    "std = np.sqrt(np.maximum(0.0, ms - np.square(m)))\n",
    "\n",
    "net_init, net_apply, net_walk = get_network('agent-small',outshape=2)\n",
    "\n",
    "out_shape, init_params = net_init_expert(rng, in_shape)\n",
    "expert = Policy(rng, in_shape, (net_init_expert, net_apply_expert, net_walk_expert),name='expert', discrete=discrete, trainable=False)\n",
    "expert.params=expert_params\n",
    "expert.std_mean = m\n",
    "expert.std_std = std"
   ]
  },
  {
   "cell_type": "code",
   "execution_count": 18,
   "metadata": {},
   "outputs": [],
   "source": [
    "n_actions_init = 1\n",
    "init_action, _, _ = expert.take_action(init_obs)\n",
    "obs_data = jnp.array([init_obs])\n",
    "act_data = jnp.array([init_action])\n",
    "act_data = act_data.reshape(n_actions_init, act_data.shape[1])"
   ]
  },
  {
   "cell_type": "code",
   "execution_count": 19,
   "metadata": {
    "scrolled": true
   },
   "outputs": [
    {
     "data": {
      "application/vnd.jupyter.widget-view+json": {
       "model_id": "61f4bd57f68e427e8e54895228179df4"
      }
     },
     "metadata": {},
     "output_type": "display_data"
    },
    {
     "data": {
      "application/vnd.jupyter.widget-view+json": {
       "model_id": "e56d8c2608804c1d8bcee0d3edcee9c3"
      }
     },
     "metadata": {},
     "output_type": "display_data"
    },
    {
     "data": {
      "application/vnd.jupyter.widget-view+json": {
       "model_id": "d5c8b6fb128b49f5bd5ba7d9b8448e61"
      }
     },
     "metadata": {},
     "output_type": "display_data"
    },
    {
     "data": {
      "application/vnd.jupyter.widget-view+json": {
       "model_id": "d5e9f82b82ec4ee8858b571f2cd3c45f"
      }
     },
     "metadata": {},
     "output_type": "display_data"
    },
    {
     "data": {
      "application/vnd.jupyter.widget-view+json": {
       "model_id": "efe02316db0f4c3fb3a791c6de8d1861"
      }
     },
     "metadata": {},
     "output_type": "display_data"
    },
    {
     "data": {
      "application/vnd.jupyter.widget-view+json": {
       "model_id": "fec3c69140744ba08528fd7fe6fc8c37"
      }
     },
     "metadata": {},
     "output_type": "display_data"
    },
    {
     "data": {
      "application/vnd.jupyter.widget-view+json": {
       "model_id": "1c640e6a3ca94791a96a86a7923bf70e"
      }
     },
     "metadata": {},
     "output_type": "display_data"
    },
    {
     "data": {
      "application/vnd.jupyter.widget-view+json": {
       "model_id": "d91d19bdaa6d4be58c1b8e90a64958c8"
      }
     },
     "metadata": {},
     "output_type": "display_data"
    },
    {
     "data": {
      "application/vnd.jupyter.widget-view+json": {
       "model_id": "92f7ec14acad4d8fa6a22b29ed01e0f2"
      }
     },
     "metadata": {},
     "output_type": "display_data"
    },
    {
     "name": "stdout",
     "output_type": "stream",
     "text": [
      "Epoch: 0\n",
      "expert: 500.0 5001\n",
      "activedagger: 9.6 5001\n",
      "activeaggrevate: 9.6 5001\n",
      "dagger: 9.6 5001\n",
      "aggrevate: 9.6 5001\n",
      "uncactivedagger: 9.6 5001\n",
      "uncactiveaggrevate: 9.6 5001\n"
     ]
    },
    {
     "data": {
      "application/vnd.jupyter.widget-view+json": {
       "model_id": "f5b1895061214070ac745fc00c16e01f"
      }
     },
     "metadata": {},
     "output_type": "display_data"
    },
    {
     "data": {
      "application/vnd.jupyter.widget-view+json": {
       "model_id": "5eebaf2bde0f423c8a54a8677afc705b"
      }
     },
     "metadata": {},
     "output_type": "display_data"
    },
    {
     "data": {
      "application/vnd.jupyter.widget-view+json": {
       "model_id": "8bdf211d937946a1adc3df4d9c44547d"
      }
     },
     "metadata": {},
     "output_type": "display_data"
    },
    {
     "data": {
      "application/vnd.jupyter.widget-view+json": {
       "model_id": "d22df5cb268c414cae0b989b0bbb2059"
      }
     },
     "metadata": {},
     "output_type": "display_data"
    },
    {
     "data": {
      "application/vnd.jupyter.widget-view+json": {
       "model_id": "8916875fb836474c829e7f0b8d47dfd3"
      }
     },
     "metadata": {},
     "output_type": "display_data"
    },
    {
     "data": {
      "application/vnd.jupyter.widget-view+json": {
       "model_id": "e56b2a0331a84561b664e3bc1fa66af6"
      }
     },
     "metadata": {},
     "output_type": "display_data"
    },
    {
     "data": {
      "application/vnd.jupyter.widget-view+json": {
       "model_id": "9353e5b838404defb05c8b314c3c003f"
      }
     },
     "metadata": {},
     "output_type": "display_data"
    },
    {
     "data": {
      "application/vnd.jupyter.widget-view+json": {
       "model_id": "87a07909c1c9448790770c33466ef561"
      }
     },
     "metadata": {},
     "output_type": "display_data"
    },
    {
     "name": "stdout",
     "output_type": "stream",
     "text": [
      "Epoch: 1\n",
      "expert: 500.0 10001\n",
      "activedagger: 45.5 10001\n",
      "activeaggrevate: 45.5 10001\n",
      "dagger: 42.3 10001\n",
      "aggrevate: 42.7 10001\n",
      "uncactivedagger: 42.3 10001\n",
      "uncactiveaggrevate: 42.7 10001\n"
     ]
    },
    {
     "data": {
      "application/vnd.jupyter.widget-view+json": {
       "model_id": "4c70d361255b42c9b69059e302036c82"
      }
     },
     "metadata": {},
     "output_type": "display_data"
    },
    {
     "data": {
      "application/vnd.jupyter.widget-view+json": {
       "model_id": "49aebb7e230d40018d801391d6379934"
      }
     },
     "metadata": {},
     "output_type": "display_data"
    },
    {
     "data": {
      "application/vnd.jupyter.widget-view+json": {
       "model_id": "fdd02c5191a8481ba2e6c906ca3c06ea"
      }
     },
     "metadata": {},
     "output_type": "display_data"
    },
    {
     "data": {
      "application/vnd.jupyter.widget-view+json": {
       "model_id": "826437f01ebf45348d381e015309692b"
      }
     },
     "metadata": {},
     "output_type": "display_data"
    },
    {
     "data": {
      "application/vnd.jupyter.widget-view+json": {
       "model_id": "778e4b7ff5de4be98b541d98fabb9ab2"
      }
     },
     "metadata": {},
     "output_type": "display_data"
    },
    {
     "data": {
      "application/vnd.jupyter.widget-view+json": {
       "model_id": "f02c2bc9524e4da8b4852b051d0be80f"
      }
     },
     "metadata": {},
     "output_type": "display_data"
    },
    {
     "data": {
      "application/vnd.jupyter.widget-view+json": {
       "model_id": "a26e94113b8f4a0f86e125b078fc3377"
      }
     },
     "metadata": {},
     "output_type": "display_data"
    },
    {
     "data": {
      "application/vnd.jupyter.widget-view+json": {
       "model_id": "776a9f62938b405d84c3d0a930a3c405"
      }
     },
     "metadata": {},
     "output_type": "display_data"
    },
    {
     "name": "stdout",
     "output_type": "stream",
     "text": [
      "Epoch: 2\n",
      "expert: 500.0 15001\n",
      "activedagger: 409.5 12207\n",
      "activeaggrevate: 411.0 12378\n",
      "dagger: 343.8 12172\n",
      "aggrevate: 347.8 12291\n",
      "uncactivedagger: 343.8 12172\n",
      "uncactiveaggrevate: 347.8 12291\n"
     ]
    },
    {
     "data": {
      "application/vnd.jupyter.widget-view+json": {
       "model_id": "5b63df8a30e44a11a2f7973a89fdaeea"
      }
     },
     "metadata": {},
     "output_type": "display_data"
    },
    {
     "data": {
      "application/vnd.jupyter.widget-view+json": {
       "model_id": "d3b1d04e7e3c4dce929f483ec3c1180e"
      }
     },
     "metadata": {},
     "output_type": "display_data"
    },
    {
     "data": {
      "application/vnd.jupyter.widget-view+json": {
       "model_id": "1e6ee79186e64d9daf3ff43c3c7d56ef"
      }
     },
     "metadata": {},
     "output_type": "display_data"
    },
    {
     "data": {
      "application/vnd.jupyter.widget-view+json": {
       "model_id": "08768a8f7a3b416bb5fdd4d5d711c4e3"
      }
     },
     "metadata": {},
     "output_type": "display_data"
    },
    {
     "data": {
      "application/vnd.jupyter.widget-view+json": {
       "model_id": "6102ea900c9e4b34bb521cecfa5a7c68"
      }
     },
     "metadata": {},
     "output_type": "display_data"
    },
    {
     "data": {
      "application/vnd.jupyter.widget-view+json": {
       "model_id": "f1af88c0df374b6bb235bd464b8ab069"
      }
     },
     "metadata": {},
     "output_type": "display_data"
    },
    {
     "data": {
      "application/vnd.jupyter.widget-view+json": {
       "model_id": "063c1e872d5f497e9c9f811bcc7565b4"
      }
     },
     "metadata": {},
     "output_type": "display_data"
    },
    {
     "data": {
      "application/vnd.jupyter.widget-view+json": {
       "model_id": "4ef10116dbc8469487b62d6c00f49bec"
      }
     },
     "metadata": {},
     "output_type": "display_data"
    },
    {
     "name": "stdout",
     "output_type": "stream",
     "text": [
      "Epoch: 3\n",
      "expert: 500.0 20001\n",
      "activedagger: 500.0 14523\n",
      "activeaggrevate: 500.0 14794\n",
      "dagger: 500.0 14701\n",
      "aggrevate: 500.0 14517\n",
      "uncactivedagger: 500.0 14481\n",
      "uncactiveaggrevate: 500.0 14800\n"
     ]
    },
    {
     "data": {
      "application/vnd.jupyter.widget-view+json": {
       "model_id": "0ed53965032b4a3f84c0de6284897144"
      }
     },
     "metadata": {},
     "output_type": "display_data"
    },
    {
     "data": {
      "application/vnd.jupyter.widget-view+json": {
       "model_id": "99fb8cfbe6924748b5ae6cd3e0f9e6dc"
      }
     },
     "metadata": {},
     "output_type": "display_data"
    },
    {
     "data": {
      "application/vnd.jupyter.widget-view+json": {
       "model_id": "08c92259df14417fadf2a75eb5f890d1"
      }
     },
     "metadata": {},
     "output_type": "display_data"
    },
    {
     "data": {
      "application/vnd.jupyter.widget-view+json": {
       "model_id": "9b7c1a195f0e4e58bb9660121d50e823"
      }
     },
     "metadata": {},
     "output_type": "display_data"
    },
    {
     "data": {
      "application/vnd.jupyter.widget-view+json": {
       "model_id": "49f1698d49b3493f9af7a0a9eeb5ee93"
      }
     },
     "metadata": {},
     "output_type": "display_data"
    },
    {
     "data": {
      "application/vnd.jupyter.widget-view+json": {
       "model_id": "158392fc762e4bf284615e818f22f711"
      }
     },
     "metadata": {},
     "output_type": "display_data"
    },
    {
     "data": {
      "application/vnd.jupyter.widget-view+json": {
       "model_id": "921a47b4ddb4455eb50a0cc2d91fe1be"
      }
     },
     "metadata": {},
     "output_type": "display_data"
    },
    {
     "data": {
      "application/vnd.jupyter.widget-view+json": {
       "model_id": "01b9e451b6754bcfa0469f478536c50d"
      }
     },
     "metadata": {},
     "output_type": "display_data"
    },
    {
     "name": "stdout",
     "output_type": "stream",
     "text": [
      "Epoch: 4\n",
      "expert: 500.0 25001\n",
      "activedagger: 500.0 16835\n",
      "activeaggrevate: 500.0 17017\n",
      "dagger: 500.0 17125\n",
      "aggrevate: 500.0 16797\n",
      "uncactivedagger: 500.0 16579\n",
      "uncactiveaggrevate: 500.0 17009\n"
     ]
    },
    {
     "data": {
      "application/vnd.jupyter.widget-view+json": {
       "model_id": "643bfbd6bffc46358f15da879d3068c9"
      }
     },
     "metadata": {},
     "output_type": "display_data"
    },
    {
     "ename": "KeyboardInterrupt",
     "evalue": "",
     "output_type": "error",
     "traceback": [
      "\u001b[0;31m---------------------------------------------------------------------------\u001b[0m",
      "\u001b[0;31mKeyboardInterrupt\u001b[0m                         Traceback (most recent call last)",
      "\u001b[0;32m<ipython-input-19-178f7ca0cb72>\u001b[0m in \u001b[0;36m<module>\u001b[0;34m()\u001b[0m\n\u001b[1;32m     59\u001b[0m         \u001b[0;32mif\u001b[0m \u001b[0mpolicy\u001b[0m\u001b[0;34m.\u001b[0m\u001b[0mtrainable\u001b[0m\u001b[0;34m:\u001b[0m\u001b[0;34m\u001b[0m\u001b[0;34m\u001b[0m\u001b[0m\n\u001b[1;32m     60\u001b[0m             \u001b[0;32mif\u001b[0m \u001b[0mpolicy\u001b[0m\u001b[0;34m.\u001b[0m\u001b[0mconstrained\u001b[0m\u001b[0;34m:\u001b[0m\u001b[0;34m\u001b[0m\u001b[0;34m\u001b[0m\u001b[0m\n\u001b[0;32m---> 61\u001b[0;31m                 \u001b[0mpolicy\u001b[0m\u001b[0;34m.\u001b[0m\u001b[0mfit_policy\u001b[0m\u001b[0;34m(\u001b[0m\u001b[0mconstraints\u001b[0m\u001b[0;34m=\u001b[0m\u001b[0;34m(\u001b[0m\u001b[0;32mNone\u001b[0m\u001b[0;34m,\u001b[0m\u001b[0;32mNone\u001b[0m\u001b[0;34m)\u001b[0m\u001b[0;34m)\u001b[0m\u001b[0;34m\u001b[0m\u001b[0;34m\u001b[0m\u001b[0m\n\u001b[0m\u001b[1;32m     62\u001b[0m             \u001b[0;32melse\u001b[0m\u001b[0;34m:\u001b[0m\u001b[0;34m\u001b[0m\u001b[0;34m\u001b[0m\u001b[0m\n\u001b[1;32m     63\u001b[0m                 \u001b[0mpolicy\u001b[0m\u001b[0;34m.\u001b[0m\u001b[0mfit_policy\u001b[0m\u001b[0;34m(\u001b[0m\u001b[0;34m)\u001b[0m\u001b[0;34m\u001b[0m\u001b[0;34m\u001b[0m\u001b[0m\n",
      "\u001b[0;32m/home/chester/dagger/policy.py\u001b[0m in \u001b[0;36mfit_policy\u001b[0;34m(self, constraints, batch_size, epochs)\u001b[0m\n\u001b[1;32m    209\u001b[0m                 \u001b[0mc\u001b[0m \u001b[0;34m=\u001b[0m \u001b[0mnext\u001b[0m\u001b[0;34m(\u001b[0m\u001b[0mbatches_constraints\u001b[0m\u001b[0;34m)\u001b[0m\u001b[0;34m\u001b[0m\u001b[0;34m\u001b[0m\u001b[0m\n\u001b[1;32m    210\u001b[0m                 \u001b[0mp\u001b[0m \u001b[0;34m=\u001b[0m \u001b[0mself\u001b[0m\u001b[0;34m.\u001b[0m\u001b[0mget_params\u001b[0m\u001b[0;34m(\u001b[0m\u001b[0mself\u001b[0m\u001b[0;34m.\u001b[0m\u001b[0mopt_state\u001b[0m\u001b[0;34m)\u001b[0m\u001b[0;34m\u001b[0m\u001b[0;34m\u001b[0m\u001b[0m\n\u001b[0;32m--> 211\u001b[0;31m                 \u001b[0mself\u001b[0m\u001b[0;34m.\u001b[0m\u001b[0mopt_state\u001b[0m \u001b[0;34m=\u001b[0m \u001b[0mself\u001b[0m\u001b[0;34m.\u001b[0m\u001b[0mtr_step\u001b[0m\u001b[0;34m(\u001b[0m\u001b[0mp\u001b[0m\u001b[0;34m,\u001b[0m \u001b[0mii\u001b[0m\u001b[0;34m,\u001b[0m \u001b[0mself\u001b[0m\u001b[0;34m.\u001b[0m\u001b[0mopt_state\u001b[0m\u001b[0;34m,\u001b[0m \u001b[0mb\u001b[0m\u001b[0;34m)\u001b[0m\u001b[0;34m\u001b[0m\u001b[0;34m\u001b[0m\u001b[0m\n\u001b[0m\u001b[1;32m    212\u001b[0m                 \u001b[0;32mif\u001b[0m \u001b[0mself\u001b[0m\u001b[0;34m.\u001b[0m\u001b[0mconstrained\u001b[0m\u001b[0;34m:\u001b[0m\u001b[0;34m\u001b[0m\u001b[0;34m\u001b[0m\u001b[0m\n\u001b[1;32m    213\u001b[0m                     \u001b[0mself\u001b[0m\u001b[0;34m.\u001b[0m\u001b[0mopt_state\u001b[0m \u001b[0;34m=\u001b[0m \u001b[0mself\u001b[0m\u001b[0;34m.\u001b[0m\u001b[0mtr_constraint_step\u001b[0m\u001b[0;34m(\u001b[0m\u001b[0mp\u001b[0m\u001b[0;34m,\u001b[0m \u001b[0mii\u001b[0m\u001b[0;34m,\u001b[0m \u001b[0mself\u001b[0m\u001b[0;34m.\u001b[0m\u001b[0mopt_state\u001b[0m\u001b[0;34m,\u001b[0m \u001b[0mb\u001b[0m\u001b[0;34m,\u001b[0m \u001b[0mc\u001b[0m\u001b[0;34m)\u001b[0m\u001b[0;34m\u001b[0m\u001b[0;34m\u001b[0m\u001b[0m\n",
      "\u001b[0;32m/home/chester/.local/lib/python3.6/site-packages/jax/api.py\u001b[0m in \u001b[0;36mf_jitted\u001b[0;34m(*args, **kwargs)\u001b[0m\n\u001b[1;32m    168\u001b[0m     \u001b[0mflat_fun\u001b[0m\u001b[0;34m,\u001b[0m \u001b[0mout_tree\u001b[0m \u001b[0;34m=\u001b[0m \u001b[0mflatten_fun\u001b[0m\u001b[0;34m(\u001b[0m\u001b[0mf\u001b[0m\u001b[0;34m,\u001b[0m \u001b[0min_tree\u001b[0m\u001b[0;34m)\u001b[0m\u001b[0;34m\u001b[0m\u001b[0;34m\u001b[0m\u001b[0m\n\u001b[1;32m    169\u001b[0m     out = xla.xla_call(flat_fun, *args_flat, device=device, backend=backend,\n\u001b[0;32m--> 170\u001b[0;31m                        name=flat_fun.__name__, donated_invars=donated_invars)\n\u001b[0m\u001b[1;32m    171\u001b[0m     \u001b[0;32mreturn\u001b[0m \u001b[0mtree_unflatten\u001b[0m\u001b[0;34m(\u001b[0m\u001b[0mout_tree\u001b[0m\u001b[0;34m(\u001b[0m\u001b[0;34m)\u001b[0m\u001b[0;34m,\u001b[0m \u001b[0mout\u001b[0m\u001b[0;34m)\u001b[0m\u001b[0;34m\u001b[0m\u001b[0;34m\u001b[0m\u001b[0m\n\u001b[1;32m    172\u001b[0m \u001b[0;34m\u001b[0m\u001b[0m\n",
      "\u001b[0;32m/home/chester/.local/lib/python3.6/site-packages/jax/core.py\u001b[0m in \u001b[0;36mcall_bind\u001b[0;34m(primitive, fun, *args, **params)\u001b[0m\n\u001b[1;32m   1098\u001b[0m   \u001b[0;32mif\u001b[0m \u001b[0mtop_trace\u001b[0m \u001b[0;32mis\u001b[0m \u001b[0;32mNone\u001b[0m\u001b[0;34m:\u001b[0m\u001b[0;34m\u001b[0m\u001b[0;34m\u001b[0m\u001b[0m\n\u001b[1;32m   1099\u001b[0m     \u001b[0;32mwith\u001b[0m \u001b[0mnew_sublevel\u001b[0m\u001b[0;34m(\u001b[0m\u001b[0;34m)\u001b[0m\u001b[0;34m:\u001b[0m\u001b[0;34m\u001b[0m\u001b[0;34m\u001b[0m\u001b[0m\n\u001b[0;32m-> 1100\u001b[0;31m       \u001b[0mouts\u001b[0m \u001b[0;34m=\u001b[0m \u001b[0mprimitive\u001b[0m\u001b[0;34m.\u001b[0m\u001b[0mimpl\u001b[0m\u001b[0;34m(\u001b[0m\u001b[0mfun\u001b[0m\u001b[0;34m,\u001b[0m \u001b[0;34m*\u001b[0m\u001b[0margs\u001b[0m\u001b[0;34m,\u001b[0m \u001b[0;34m**\u001b[0m\u001b[0mparams\u001b[0m\u001b[0;34m)\u001b[0m\u001b[0;34m\u001b[0m\u001b[0;34m\u001b[0m\u001b[0m\n\u001b[0m\u001b[1;32m   1101\u001b[0m   \u001b[0;32melse\u001b[0m\u001b[0;34m:\u001b[0m\u001b[0;34m\u001b[0m\u001b[0;34m\u001b[0m\u001b[0m\n\u001b[1;32m   1102\u001b[0m     \u001b[0mtracers\u001b[0m \u001b[0;34m=\u001b[0m \u001b[0mmap\u001b[0m\u001b[0;34m(\u001b[0m\u001b[0mtop_trace\u001b[0m\u001b[0;34m.\u001b[0m\u001b[0mfull_raise\u001b[0m\u001b[0;34m,\u001b[0m \u001b[0margs\u001b[0m\u001b[0;34m)\u001b[0m\u001b[0;34m\u001b[0m\u001b[0;34m\u001b[0m\u001b[0m\n",
      "\u001b[0;32m/home/chester/.local/lib/python3.6/site-packages/jax/interpreters/xla.py\u001b[0m in \u001b[0;36m_xla_call_impl\u001b[0;34m(fun, device, backend, name, donated_invars, *args)\u001b[0m\n\u001b[1;32m    542\u001b[0m                                *unsafe_map(arg_spec, args))\n\u001b[1;32m    543\u001b[0m   \u001b[0;32mtry\u001b[0m\u001b[0;34m:\u001b[0m\u001b[0;34m\u001b[0m\u001b[0;34m\u001b[0m\u001b[0m\n\u001b[0;32m--> 544\u001b[0;31m     \u001b[0;32mreturn\u001b[0m \u001b[0mcompiled_fun\u001b[0m\u001b[0;34m(\u001b[0m\u001b[0;34m*\u001b[0m\u001b[0margs\u001b[0m\u001b[0;34m)\u001b[0m\u001b[0;34m\u001b[0m\u001b[0;34m\u001b[0m\u001b[0m\n\u001b[0m\u001b[1;32m    545\u001b[0m   \u001b[0;32mexcept\u001b[0m \u001b[0mFloatingPointError\u001b[0m\u001b[0;34m:\u001b[0m\u001b[0;34m\u001b[0m\u001b[0;34m\u001b[0m\u001b[0m\n\u001b[1;32m    546\u001b[0m     print(\"Invalid value encountered in the output of a jit function. \"\n",
      "\u001b[0;32m/home/chester/.local/lib/python3.6/site-packages/jax/interpreters/xla.py\u001b[0m in \u001b[0;36m_execute_compiled\u001b[0;34m(compiled, uses_outfeed, handlers, *args)\u001b[0m\n\u001b[1;32m    773\u001b[0m   \u001b[0mdevice\u001b[0m\u001b[0;34m,\u001b[0m \u001b[0;34m=\u001b[0m \u001b[0mcompiled\u001b[0m\u001b[0;34m.\u001b[0m\u001b[0mlocal_devices\u001b[0m\u001b[0;34m(\u001b[0m\u001b[0;34m)\u001b[0m\u001b[0;34m\u001b[0m\u001b[0;34m\u001b[0m\u001b[0m\n\u001b[1;32m    774\u001b[0m   \u001b[0minput_bufs\u001b[0m \u001b[0;34m=\u001b[0m \u001b[0;34m[\u001b[0m\u001b[0mdevice_put\u001b[0m\u001b[0;34m(\u001b[0m\u001b[0mx\u001b[0m\u001b[0;34m,\u001b[0m \u001b[0mdevice\u001b[0m\u001b[0;34m)\u001b[0m \u001b[0;32mfor\u001b[0m \u001b[0mx\u001b[0m \u001b[0;32min\u001b[0m \u001b[0margs\u001b[0m \u001b[0;32mif\u001b[0m \u001b[0mx\u001b[0m \u001b[0;32mis\u001b[0m \u001b[0;32mnot\u001b[0m \u001b[0mtoken\u001b[0m\u001b[0;34m]\u001b[0m\u001b[0;34m\u001b[0m\u001b[0;34m\u001b[0m\u001b[0m\n\u001b[0;32m--> 775\u001b[0;31m   \u001b[0mout_bufs\u001b[0m \u001b[0;34m=\u001b[0m \u001b[0mcompiled\u001b[0m\u001b[0;34m.\u001b[0m\u001b[0mexecute\u001b[0m\u001b[0;34m(\u001b[0m\u001b[0minput_bufs\u001b[0m\u001b[0;34m)\u001b[0m\u001b[0;34m\u001b[0m\u001b[0;34m\u001b[0m\u001b[0m\n\u001b[0m\u001b[1;32m    776\u001b[0m   \u001b[0;32mif\u001b[0m \u001b[0mFLAGS\u001b[0m\u001b[0;34m.\u001b[0m\u001b[0mjax_debug_nans\u001b[0m\u001b[0;34m:\u001b[0m \u001b[0mcheck_nans\u001b[0m\u001b[0;34m(\u001b[0m\u001b[0mxla_call_p\u001b[0m\u001b[0;34m,\u001b[0m \u001b[0mout_bufs\u001b[0m\u001b[0;34m)\u001b[0m\u001b[0;34m\u001b[0m\u001b[0;34m\u001b[0m\u001b[0m\n\u001b[1;32m    777\u001b[0m   \u001b[0;32mreturn\u001b[0m \u001b[0;34m[\u001b[0m\u001b[0mhandler\u001b[0m\u001b[0;34m(\u001b[0m\u001b[0mout_buf\u001b[0m\u001b[0;34m)\u001b[0m \u001b[0;32mfor\u001b[0m \u001b[0mhandler\u001b[0m\u001b[0;34m,\u001b[0m \u001b[0mout_buf\u001b[0m \u001b[0;32min\u001b[0m \u001b[0mzip\u001b[0m\u001b[0;34m(\u001b[0m\u001b[0mhandlers\u001b[0m\u001b[0;34m,\u001b[0m \u001b[0mout_bufs\u001b[0m\u001b[0;34m)\u001b[0m\u001b[0;34m]\u001b[0m\u001b[0;34m\u001b[0m\u001b[0;34m\u001b[0m\u001b[0m\n",
      "\u001b[0;31mKeyboardInterrupt\u001b[0m: "
     ]
    }
   ],
   "source": [
    "#%%prun -s cumulative\n",
    "num_episodes = 10\n",
    "num_rollouts = 10\n",
    "b = 0.5 # b = 0.5 for , 0.1 for cheetah\n",
    "b2 = 1.0\n",
    "dsct_fctr = 0.95\n",
    "\n",
    "obs_data = jnp.array([init_obs])\n",
    "act_data = jnp.array([init_action])\n",
    "act_data = act_data.reshape(n_actions_init, act_data.shape[1])\n",
    "\n",
    "expert = Policy(rng, in_shape, (net_init_expert, net_apply_expert, net_walk_expert), \n",
    "                env=env_expert, name='expert', discrete=discrete, trainable=False)\n",
    "expert.params = expert_params\n",
    "#expert.std_mean = m\n",
    "#expert.std_std = std\n",
    "\n",
    "#dagger = Policy(rng, in_shape, (net_init, net_apply, net_walk),env=env_dagger, name='dagger', discrete=discrete)\n",
    "active_dagger = Policy(rng, in_shape, (net_init, net_apply, net_walk), \n",
    "                       env=env_active_dagger, name='activedagger', \n",
    "                       discrete=discrete, active=True, constrained=True)\n",
    "#aggrevate = Policy(rng, in_shape, (net_init, net_apply, net_walk),\n",
    "#                   env=env_aggrevate, name='aggrevate', \n",
    "#                   discrete=discrete, cost_sensitive=True)\n",
    "active_aggrevate = Policy(rng, in_shape, (net_init, net_apply, net_walk),\n",
    "                          env=env_active_aggrevate, name='activeaggrevate', \n",
    "                          discrete=discrete, active=True, constrained=True, cost_sensitive=True)\n",
    "\n",
    "dagger = Policy(rng, in_shape, (net_init, net_apply, net_walk), \n",
    "                       env=env_dagger, name='dagger', \n",
    "                       discrete=discrete, active=True, constrained=False) \n",
    "\n",
    "aggrevate = Policy(rng, in_shape, (net_init, net_apply, net_walk),\n",
    "                          env=env_aggrevate, name='aggrevate', \n",
    "                          discrete=discrete, active=True, constrained=False, cost_sensitive=True)\n",
    "\n",
    "unc_active_dagger = Policy(rng, in_shape, (net_init, net_apply, net_walk), \n",
    "                       env=env_uncactive_dagger, name='uncactivedagger', \n",
    "                       discrete=discrete, active=True, constrained=False)\n",
    "\n",
    "unc_active_aggrevate = Policy(rng, in_shape, (net_init, net_apply, net_walk),\n",
    "                          env=env_uncactive_aggrevate, name='uncactiveaggrevate', \n",
    "                          discrete=discrete, active=True, constrained=False, cost_sensitive=True)\n",
    "\n",
    "#innactive_policies = [expert, dagger, aggrevate]\n",
    "innactive_policies = [expert]\n",
    "#active_policies = [active_dagger, active_aggrevate]\n",
    "active_policies = [active_dagger, active_aggrevate, dagger, aggrevate, unc_active_dagger, unc_active_aggrevate]\n",
    "policies = innactive_policies + active_policies\n",
    "\n",
    "\n",
    "# aggregate initial data\n",
    "for policy in policies:\n",
    "    policy.aggregate((obs_data,act_data))\n",
    " \n",
    "for i in tqdm(range(num_episodes)): #Dagger main loop\n",
    "    for policy in policies:\n",
    "        policy.init_policy()\n",
    "        if policy.trainable:\n",
    "            if policy.constrained:\n",
    "                policy.fit_policy(constraints=(None,None))\n",
    "            else:\n",
    "                policy.fit_policy()\n",
    "            \n",
    "    new_observations, new_actions, Vs = ([] for _ in range(3))\n",
    "    \n",
    "    for j in tqdm(range(num_rollouts), position=1, desc='rollout', leave=False):\n",
    "        for policy in policies:\n",
    "            policy.reset_env()\n",
    "            \n",
    "        r_t = []\n",
    "        d_i = 0\n",
    "        for k in range(max_steps):            \n",
    "            for policy in policies:\n",
    "                expert_action_logits, expert_action, _ = expert.take_action(policy.cur_obs)\n",
    "                policy.expert_observations.append(policy.cur_obs)\n",
    "                policy.expert_actions.append(expert_action_logits)\n",
    "                if policy.active:\n",
    "                    self_action_logits, self_action, conf = policy.take_action(policy.cur_obs) \n",
    "                    policy.self_observations.append(policy.cur_obs)\n",
    "                    policy.self_actions.append(self_action_logits)\n",
    "                    query = random.bernoulli(rng, p=b/(b + conf.item()))\n",
    "                    policy.cur_active_mask.append(query or (i==0))\n",
    "                    query_self = random.bernoulli(rng, p=b2/(b2 + conf.item()))\n",
    "                    policy.cur_self_mask.append(~query and ~query_self)\n",
    "                \"\"\"\n",
    "                if i < 2 or (policy.cur_obs[3] > 0):\n",
    "                    policy.expert_observations.append(policy.cur_obs)\n",
    "                    policy.expert_actions.append(expert_action_logits)\n",
    "                    if policy.active:\n",
    "                        self_action_logits, self_action, conf = policy.take_action(policy.cur_obs) \n",
    "                        policy.self_observations.append(policy.cur_obs)\n",
    "                        policy.self_actions.append(self_action_logits)\n",
    "                        query = 1\n",
    "                        policy.cur_active_mask.append(query or (i==0))\n",
    "                        query_self = random.bernoulli(rng, p=b2/(b2 + conf.item()))\n",
    "                        policy.cur_self_mask.append((not query) and (not query_self))\n",
    "                else:\n",
    "                    policy.expert_observations.append(policy.cur_obs)\n",
    "                    policy.expert_actions.append(expert_action_logits)\n",
    "                    if policy.active:\n",
    "                        self_action_logits, self_action, conf = policy.take_action(policy.cur_obs) \n",
    "                        policy.self_observations.append(policy.cur_obs)\n",
    "                        policy.self_actions.append(self_action_logits)\n",
    "                        query = 0\n",
    "                        query_self = 1\n",
    "                        if policy.name not in [\"dagger\",\"aggrevate\"]:\n",
    "                            policy.cur_active_mask.append(query or (i==0))\n",
    "                            query_self = random.bernoulli(rng, p=b2/(b2 + conf.item()))\n",
    "                        policy.cur_self_mask.append((not query) and (not query_self))                         \n",
    "                \"\"\"\n",
    "\n",
    "            doneall=True\n",
    "            for policy in policies:\n",
    "                if not policy.done:\n",
    "                    obs, r, done = policy.step(k+1)\n",
    "                    policy.r_t.append(r)\n",
    "                    doneall=False\n",
    "                \n",
    "            if doneall: break\n",
    "\n",
    "        for policy in policies:\n",
    "            policy.rewards[-1].append(policy.reward_accum)\n",
    "\n",
    "    for policy in tqdm(policies,desc='data aggregation', position=2, leave=False):\n",
    "        policy.aggregate()\n",
    "    #Parallel(n_jobs=-1, prefer=\"threads\")(delayed(policy.aggregate()) for policy in policies)\n",
    "    \n",
    "    print('Epoch: {}'.format(i))\n",
    "    for policy in policies:\n",
    "        print('{}: {} {}'.format(policy.name, np.mean(policy.rewards[-1]), policy.num_data[-1]))"
   ]
  },
  {
   "cell_type": "code",
   "execution_count": null,
   "metadata": {},
   "outputs": [],
   "source": [
    "def plot_and_evaluate():\n",
    "    #make_plot([dagger,expert,active_dagger, aggrevate, active_aggrevate],[('noisy expert',noisy_expert_rewards, expert.num_data)])\n",
    "    make_plot([dagger,expert, active_dagger, aggrevate, active_aggrevate, unc_active_dagger, unc_active_aggrevate],[])\n",
    "    \n",
    "    for policy in [dagger,expert,active_dagger, aggrevate, active_aggrevate]:\n",
    "        print(policy.name,[np.mean(x) for x in policy.rewards], policy.num_data)"
   ]
  },
  {
   "cell_type": "code",
   "execution_count": null,
   "metadata": {},
   "outputs": [],
   "source": [
    "active_dagger.active_mask.sum(), active_dagger.self_mask.sum()"
   ]
  },
  {
   "cell_type": "code",
   "execution_count": null,
   "metadata": {
    "scrolled": true
   },
   "outputs": [],
   "source": [
    "plot_and_evaluate()"
   ]
  },
  {
   "cell_type": "code",
   "execution_count": 19,
   "metadata": {},
   "outputs": [
    {
     "name": "stdout",
     "output_type": "stream",
     "text": [
      "dagger [9.25, 62.7, 371.15, 500.0, 500.0] [1, 10001, 20001, 20613, 24697, 29043]\n",
      "expert [500.0, 500.0, 500.0, 500.0, 500.0] [1, 10001, 20001, 30001, 40001, 50001]\n",
      "activedagger [9.25, 81.1, 364.35, 500.0, 500.0] [1, 10001, 20001, 20519, 23078, 26868]\n",
      "aggrevate [9.25, 62.7, 382.2, 500.0, 500.0] [1, 10001, 20001, 20770, 25064, 29281]\n",
      "activeaggrevate [9.25, 81.05, 328.35, 500.0, 500.0] [1, 10001, 20001, 20337, 24231, 27422]\n"
     ]
    },
    {
     "data": {
      "image/png": "[encoded data removed]",
      "text/plain": [
       "<Figure size 2160x360 with 2 Axes>"
      ]
     },
     "metadata": {},
     "output_type": "display_data"
    }
   ],
   "source": [
    "# cartpole\n",
    "plot_and_evaluate()"
   ]
  },
  {
   "cell_type": "code",
   "execution_count": 147,
   "metadata": {},
   "outputs": [],
   "source": [
    "active_aggrevate.save('./models/','test_policy_class')"
   ]
  },
  {
   "cell_type": "code",
   "execution_count": 150,
   "metadata": {},
   "outputs": [
    {
     "name": "stdout",
     "output_type": "stream",
     "text": [
      "  0%|                                                  | 0/1000 [00:00<?, ?it/s]Creating window glfw\n",
      "100%|███████████████████████████████████████▉| 997/1000 [00:19<00:00, 51.42it/s]\n"
     ]
    }
   ],
   "source": [
    "#final_model = './models/{}_active_dagger_model.h5'.format(j)\n",
    "final_model = './models/test_policy_class.h5'\n",
    "!xvfb-run -s \"-screen 0 600x400x24\" python3.6 render.py --mpath $final_model --envname HalfCheetah-v2"
   ]
  },
  {
   "cell_type": "code",
   "execution_count": 151,
   "metadata": {},
   "outputs": [
    {
     "name": "stdout",
     "output_type": "stream",
     "text": [
      "./gym-results/openaigym.video.0.11286.video000000.mp4\n"
     ]
    }
   ],
   "source": [
    "for file in os.listdir(\"./gym-results/\"):\n",
    "    if file.endswith(\".mp4\"):   \n",
    "        mp4name = os.path.join(\"./gym-results\", file)\n",
    "        print(mp4name)"
   ]
  },
  {
   "cell_type": "code",
   "execution_count": 152,
   "metadata": {},
   "outputs": [
    {
     "data": {
      "text/html": [
       "\n",
       "    <video width=\"360\" height=\"auto\" alt=\"test\" controls><source src=\"data:video/mp4;base64,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\" type=\"video/mp4\" /></video>"
      ],
      "text/plain": [
       "<IPython.core.display.HTML object>"
      ]
     },
     "execution_count": 152,
     "metadata": {},
     "output_type": "execute_result"
    }
   ],
   "source": [
    "video = io.open(mp4name, 'r+b').read()\n",
    "encoded = base64.b64encode(video)\n",
    "HTML(data='''\n",
    "    <video width=\"360\" height=\"auto\" alt=\"test\" controls><source src=\"data:video/mp4;base64,{0}\" type=\"video/mp4\" /></video>'''\n",
    ".format(encoded.decode('ascii')))"
   ]
  },
  {
   "cell_type": "code",
   "execution_count": null,
   "metadata": {},
   "outputs": [],
   "source": []
  }
 ],
 "metadata": {
  "kernelspec": {
   "display_name": "Python 3",
   "language": "python",
   "name": "python3"
  },
  "language_info": {
   "codemirror_mode": {
    "name": "ipython",
    "version": 3
   },
   "file_extension": ".py",
   "mimetype": "text/x-python",
   "name": "python",
   "nbconvert_exporter": "python",
   "pygments_lexer": "ipython3",
   "version": "3.6.9"
  }
 },
 "nbformat": 4,
 "nbformat_minor": 2
}
