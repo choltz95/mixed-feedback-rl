{
 "cells": [
  {
   "cell_type": "code",
   "execution_count": 1,
   "metadata": {},
   "outputs": [
    {
     "name": "stderr",
     "output_type": "stream",
     "text": [
      "/usr/lib/python3/dist-packages/h5py/__init__.py:36: FutureWarning: Conversion of the second argument of issubdtype from `float` to `np.floating` is deprecated. In future, it will be treated as `np.float64 == np.dtype(float).type`.\n",
      "  from ._conv import register_converters as _register_converters\n",
      "Using TensorFlow backend.\n"
     ]
    }
   ],
   "source": [
    "from jax import numpy as jnp\n",
    "from jax import random, grad, vmap, jit, tree_multimap\n",
    "from jax.experimental import stax, optimizers\n",
    "from jax.experimental.stax import Conv, Dense, MaxPool, Relu, Flatten, LogSoftmax\n",
    "\n",
    "import keras\n",
    "\n",
    "import gym\n",
    "from gym import wrappers\n",
    "\n",
    "import io\n",
    "import base64\n",
    "from IPython.display import HTML\n",
    "\n",
    "from utils import pwl\n",
    "\n",
    "import numpy as np\n",
    "import pandas as pd\n",
    "import sys, os, math, time, pickle, itertools\n",
    "from tqdm.notebook import tqdm\n",
    "import matplotlib.pyplot as plt\n",
    "\n",
    "%load_ext autoreload\n",
    "%autoreload 2"
   ]
  },
  {
   "cell_type": "code",
   "execution_count": 2,
   "metadata": {},
   "outputs": [
    {
     "name": "stdout",
     "output_type": "stream",
     "text": [
      "gpu\n"
     ]
    }
   ],
   "source": [
    "## verify Jax is using the GPU\n",
    "from jax.lib import xla_bridge\n",
    "print(xla_bridge.get_backend().platform)"
   ]
  },
  {
   "cell_type": "code",
   "execution_count": 3,
   "metadata": {},
   "outputs": [],
   "source": [
    "## Instantiate global rng for reproducability\n",
    "rng = random.PRNGKey(0)"
   ]
  },
  {
   "cell_type": "code",
   "execution_count": 11,
   "metadata": {},
   "outputs": [],
   "source": [
    "num_rollouts = 5\n",
    "\n",
    "expert_model_path = \"./LunarLander-v2-config.json\"\n",
    "expert_weights_path = \"./LunarLander-v2-weights.h5\"\n",
    "data_path = \"\"\n",
    "loss_type = 'celoss'\n",
    "\n",
    "mean_rewards = []\n",
    "stds = []\n",
    "main_returns = []"
   ]
  },
  {
   "cell_type": "code",
   "execution_count": 5,
   "metadata": {},
   "outputs": [],
   "source": [
    "# Define a compiled update step\n",
    "@jit\n",
    "def step(i, opt_state, batch):\n",
    "    x1, y1 = batch\n",
    "    p = get_params(opt_state)\n",
    "    g = grad(loss)(p, x1, y1)\n",
    "    return opt_update(i, g, opt_state)"
   ]
  },
  {
   "cell_type": "code",
   "execution_count": 6,
   "metadata": {},
   "outputs": [
    {
     "name": "stdout",
     "output_type": "stream",
     "text": [
      "loading and building expert policy\n",
      "WARNING:tensorflow:From /usr/lib/python3/dist-packages/tensorflow_core/python/ops/resource_variable_ops.py:1630: calling BaseResourceVariable.__init__ (from tensorflow.python.ops.resource_variable_ops) with constraint is deprecated and will be removed in a future version.\n",
      "Instructions for updating:\n",
      "If using Keras pass *_constraint arguments to layers.\n"
     ]
    },
    {
     "name": "stderr",
     "output_type": "stream",
     "text": [
      "WARNING:tensorflow:From /usr/lib/python3/dist-packages/tensorflow_core/python/ops/resource_variable_ops.py:1630: calling BaseResourceVariable.__init__ (from tensorflow.python.ops.resource_variable_ops) with constraint is deprecated and will be removed in a future version.\n",
      "Instructions for updating:\n",
      "If using Keras pass *_constraint arguments to layers.\n"
     ]
    },
    {
     "name": "stdout",
     "output_type": "stream",
     "text": [
      "loaded and built\n"
     ]
    }
   ],
   "source": [
    "print('loading and building expert policy')\n",
    "\n",
    "with open(expert_model_path, 'r') as f:\n",
    "    policy_fn = keras.models.model_from_json(f.read())\n",
    "policy_fn.load_weights(expert_weights_path)   \n",
    "\n",
    "print('loaded and built')\n",
    "\n",
    "#task_data = load_task_data(\"{}.pkl\".format(data_path))\n",
    "env = gym.make('LunarLander-v2')\n"
   ]
  },
  {
   "cell_type": "code",
   "execution_count": 7,
   "metadata": {},
   "outputs": [
    {
     "name": "stdout",
     "output_type": "stream",
     "text": [
      "WARNING:tensorflow:From /usr/lib/python3/dist-packages/keras/backend/tensorflow_backend.py:422: The name tf.global_variables is deprecated. Please use tf.compat.v1.global_variables instead.\n",
      "\n"
     ]
    },
    {
     "name": "stderr",
     "output_type": "stream",
     "text": [
      "WARNING:tensorflow:From /usr/lib/python3/dist-packages/keras/backend/tensorflow_backend.py:422: The name tf.global_variables is deprecated. Please use tf.compat.v1.global_variables instead.\n",
      "\n"
     ]
    }
   ],
   "source": [
    "init_obs = env.reset()\n",
    "init_action = policy_fn.predict(np.array([init_obs]))\n",
    "obs_data = jnp.array([init_obs])\n",
    "act_data = jnp.array([init_action])\n",
    "\n",
    "act_data = act_data.reshape(act_data.shape[0], act_data.shape[2])"
   ]
  },
  {
   "cell_type": "code",
   "execution_count": 8,
   "metadata": {},
   "outputs": [],
   "source": [
    "## set up network\n",
    "net_init, net_apply, net_walk = pwl(\n",
    "    Dense(1024), Relu,\n",
    "    Dense(4),\n",
    ")\n",
    "in_shape = (-1,) + (obs_data.shape[1],)"
   ]
  },
  {
   "cell_type": "code",
   "execution_count": 9,
   "metadata": {},
   "outputs": [],
   "source": [
    "def mseloss(params, inputs, targets):\n",
    "    # Computes average loss for the batch\n",
    "    predictions = net_apply(params, inputs)\n",
    "    return np.mean((targets - predictions)**2)\n",
    "\n",
    "def celoss(params, inputs, targets):\n",
    "    logits = net_apply(params, inputs)\n",
    "    logits = stax.logsoftmax(logits)  # log normalize\n",
    "    return -np.mean(np.sum(logits * targets, axis=1))  # cross entropy loss\n",
    "\n",
    "def fit_policy(params, opt_state, data, batch_size, epochs):\n",
    "    X_tr, y_tr = data\n",
    "    num_train = X_tr.shape[0]\n",
    "    \n",
    "    num_complete_batches, leftover = divmod(num_train, batch_size)\n",
    "    num_batches = num_complete_batches + bool(leftover)\n",
    "    \n",
    "    def data_stream():\n",
    "        while True:\n",
    "            rng = np.random.RandomState(0)\n",
    "            perm = rng.permutation(num_train)\n",
    "            for i in range(num_batches):\n",
    "                batch_idx = perm[i * batch_size:(i + 1) * batch_size]\n",
    "                yield X_tr[batch_idx], y_tr[batch_idx]\n",
    "    batches = data_stream()\n",
    "    \n",
    "    itercount = itertools.count()\n",
    "    \n",
    "    for epoch in tqdm(range(epochs),desc='tr policy', position=2, leave=False):\n",
    "        for _ in range(num_batches):\n",
    "            ii = next(itercount)\n",
    "            opt_state = step(ii, opt_state, next(batches))\n",
    "            \n",
    "    params = get_params(opt_state)\n",
    "    return params"
   ]
  },
  {
   "cell_type": "code",
   "execution_count": 12,
   "metadata": {},
   "outputs": [
    {
     "data": {
      "application/vnd.jupyter.widget-view+json": {
       "model_id": "15f322baf77e45f0a95cf0b0624714b1"
      }
     },
     "metadata": {},
     "output_type": "display_data"
    },
    {
     "data": {
      "application/vnd.jupyter.widget-view+json": {
       "model_id": "4a7aa79c99b94a0f894547eb704afad5"
      }
     },
     "metadata": {},
     "output_type": "display_data"
    },
    {
     "data": {
      "application/vnd.jupyter.widget-view+json": {
       "model_id": "111cf804e7dc4311846eb5cd3d679758"
      }
     },
     "metadata": {},
     "output_type": "display_data"
    },
    {
     "name": "stdout",
     "output_type": "stream",
     "text": [
      "returns [-91772.60817740177, -94933.25811119816, -86810.43591820316, -90357.6450017454, -88601.23341839312]\n",
      "mean return -90495.03612538832\n",
      "std of return 2775.3071341413283\n"
     ]
    },
    {
     "data": {
      "application/vnd.jupyter.widget-view+json": {
       "model_id": "ef03b2d9c01f47b084ec424706553c6f"
      }
     },
     "metadata": {},
     "output_type": "display_data"
    },
    {
     "data": {
      "application/vnd.jupyter.widget-view+json": {
       "model_id": "3f5afe06774d4db18522abe573cb452f"
      }
     },
     "metadata": {},
     "output_type": "display_data"
    },
    {
     "name": "stdout",
     "output_type": "stream",
     "text": [
      "returns [44648.950548796376, 74894.2250263559, 66025.43937408968, -92725.65219444488, 67142.5821480634]\n",
      "mean return 31997.108980572095\n",
      "std of return 63165.07004471768\n"
     ]
    },
    {
     "data": {
      "application/vnd.jupyter.widget-view+json": {
       "model_id": "a09a61fc628f4690820ac7bfbb74d7e4"
      }
     },
     "metadata": {},
     "output_type": "display_data"
    },
    {
     "data": {
      "application/vnd.jupyter.widget-view+json": {
       "model_id": "831c6e44d2bf438d82d099dc71446b56"
      }
     },
     "metadata": {},
     "output_type": "display_data"
    },
    {
     "name": "stdout",
     "output_type": "stream",
     "text": [
      "returns [-89363.19227564016, -94910.5392808261, -86923.95073915925, -94311.31192433376, -93021.00934428454]\n",
      "mean return -91706.00071284876\n",
      "std of return 3070.593264091286\n"
     ]
    },
    {
     "data": {
      "application/vnd.jupyter.widget-view+json": {
       "model_id": "51f0f05d42134413a3e81241d5e89965"
      }
     },
     "metadata": {},
     "output_type": "display_data"
    },
    {
     "data": {
      "application/vnd.jupyter.widget-view+json": {
       "model_id": "505cf9d328b3470d81a7a2a2efb14a0c"
      }
     },
     "metadata": {},
     "output_type": "display_data"
    },
    {
     "name": "stdout",
     "output_type": "stream",
     "text": [
      "returns [-430.3144051627751, 72933.74443018195, -11530.66102431075, 67258.28688707371, 54858.51071045614]\n",
      "mean return 36617.913319647654\n",
      "std of return 35443.61116951529\n"
     ]
    },
    {
     "data": {
      "application/vnd.jupyter.widget-view+json": {
       "model_id": "ee309a44e2ec48de828255391ca73122"
      }
     },
     "metadata": {},
     "output_type": "display_data"
    },
    {
     "data": {
      "application/vnd.jupyter.widget-view+json": {
       "model_id": "c28d5d1c1898450091fcf902e12eb093"
      }
     },
     "metadata": {},
     "output_type": "display_data"
    },
    {
     "name": "stdout",
     "output_type": "stream",
     "text": [
      "returns [-86721.0606240035, 71093.59780871749, 41120.96879092928, 71822.88683635945, 67697.54020033425]\n",
      "mean return 33002.78660246739\n",
      "std of return 60928.38498514253\n",
      "\n"
     ]
    }
   ],
   "source": [
    "if loss_type == 'celoss':\n",
    "    loss = celoss\n",
    "elif loss_type == 'mseloss':\n",
    "    loss = mseloss\n",
    "\n",
    "for j in tqdm(range(5)): #Dagger main loop    \n",
    "    out_shape, init_params = net_init(rng, in_shape)\n",
    "    opt_init, opt_update, get_params = optimizers.adam(0.00001, b1=0.9, b2=0.999, eps=1e-08)\n",
    "    opt_state = opt_init(init_params)\n",
    "    params = fit_policy(init_params, opt_state, (obs_data, act_data), batch_size=64, epochs=30)\n",
    "    pickle.dump(params, open( './models/{}_dagger_model.h5'.format(j), \"wb\" ))\n",
    "    \n",
    "    env = gym.make('LunarLander-v2')\n",
    "    max_steps = env.spec.max_episode_steps\n",
    "\n",
    "    returns = []\n",
    "    new_observations = []\n",
    "    new_actions = []\n",
    "    for i in tqdm(range(num_rollouts), position=1, desc='rollout', leave=False):\n",
    "        obs = env.reset()\n",
    "\n",
    "        done = False\n",
    "        totalr = 0.0\n",
    "\n",
    "        for _ in range(max_steps):\n",
    "            expert_action = policy_fn.predict(obs[None,:])\n",
    "            predicted_action = net_apply(params, obs[None, :])\n",
    "            predicted_action = np.argmax( predicted_action )\n",
    "            new_observations.append(obs)\n",
    "            new_actions.append(expert_action)\n",
    "\n",
    "            obs, r, done, info = env.step(np.array(predicted_action))\n",
    "            totalr += r\n",
    "\n",
    "        returns.append(totalr)\n",
    "\n",
    "    print('returns', returns)\n",
    "    print('mean return', np.mean(returns))\n",
    "    print('std of return', np.std(returns))\n",
    "\n",
    "    #record returns\n",
    "    main_returns.append(returns)\n",
    "    mean_rewards.append(np.mean(returns))\n",
    "    stds.append(np.std(returns))\n",
    "\n",
    "    #data aggregation\n",
    "    obs_data = np.concatenate((obs_data, np.array(new_observations)))\n",
    "    new_actions = np.array(new_actions)\n",
    "    act_data = np.concatenate((act_data, np.array(new_actions.reshape(new_actions.shape[0], new_actions.shape[2]))))\n"
   ]
  },
  {
   "cell_type": "code",
   "execution_count": 13,
   "metadata": {},
   "outputs": [
    {
     "name": "stdout",
     "output_type": "stream",
     "text": [
      "[-90495.03612538832, 31997.108980572095, -91706.00071284876, 36617.913319647654, 33002.78660246739]\n"
     ]
    }
   ],
   "source": [
    "print(mean_rewards)"
   ]
  },
  {
   "cell_type": "code",
   "execution_count": 15,
   "metadata": {},
   "outputs": [
    {
     "name": "stdout",
     "output_type": "stream",
     "text": [
      " 10%|████▏                                   | 105/1000 [00:01<00:15, 59.15it/s]\n"
     ]
    }
   ],
   "source": [
    "final_model = './models/{}_dagger_model.h5'.format(j)\n",
    "!xvfb-run -s \"-screen 0 600x400x24\" python3.6 render.py --mpath $final_model"
   ]
  },
  {
   "cell_type": "code",
   "execution_count": 16,
   "metadata": {},
   "outputs": [
    {
     "name": "stdout",
     "output_type": "stream",
     "text": [
      "openaigym.episode_batch.0.14997.stats.json\r\n",
      "openaigym.manifest.0.14997.manifest.json\r\n",
      "openaigym.video.0.14997.video000000.meta.json\r\n",
      "openaigym.video.0.14997.video000000.mp4\r\n"
     ]
    }
   ],
   "source": [
    "!ls ./gym-results"
   ]
  },
  {
   "cell_type": "code",
   "execution_count": 17,
   "metadata": {},
   "outputs": [
    {
     "name": "stdout",
     "output_type": "stream",
     "text": [
      "./gym-results/openaigym.video.0.14997.video000000.mp4\n"
     ]
    }
   ],
   "source": [
    "for file in os.listdir(\"./gym-results/\"):\n",
    "    if file.endswith(\".mp4\"):   \n",
    "        mp4name = os.path.join(\"./gym-results\", file)\n",
    "        print(mp4name)"
   ]
  },
  {
   "cell_type": "code",
   "execution_count": 18,
   "metadata": {},
   "outputs": [
    {
     "data": {
      "text/html": [
       "\n",
       "    <video width=\"360\" height=\"auto\" alt=\"test\" controls><source src=\"data:video/mp4;base64,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\" type=\"video/mp4\" /></video>"
      ],
      "text/plain": [
       "<IPython.core.display.HTML object>"
      ]
     },
     "execution_count": 18,
     "metadata": {},
     "output_type": "execute_result"
    }
   ],
   "source": [
    "video = io.open(mp4name, 'r+b').read()\n",
    "encoded = base64.b64encode(video)\n",
    "HTML(data='''\n",
    "    <video width=\"360\" height=\"auto\" alt=\"test\" controls><source src=\"data:video/mp4;base64,{0}\" type=\"video/mp4\" /></video>'''\n",
    ".format(encoded.decode('ascii')))"
   ]
  },
  {
   "cell_type": "code",
   "execution_count": null,
   "metadata": {},
   "outputs": [],
   "source": []
  }
 ],
 "metadata": {
  "kernelspec": {
   "display_name": "Python 3",
   "language": "python",
   "name": "python3"
  },
  "language_info": {
   "codemirror_mode": {
    "name": "ipython",
    "version": 3
   },
   "file_extension": ".py",
   "mimetype": "text/x-python",
   "name": "python",
   "nbconvert_exporter": "python",
   "pygments_lexer": "ipython3",
   "version": "3.6.9"
  }
 },
 "nbformat": 4,
 "nbformat_minor": 2
}
